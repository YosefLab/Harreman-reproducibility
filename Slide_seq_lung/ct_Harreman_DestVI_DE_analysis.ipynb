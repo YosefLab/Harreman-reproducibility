{
 "cells": [
  {
   "cell_type": "markdown",
   "id": "e8ea5963-70b5-48ff-8d30-3d3febd33cae",
   "metadata": {
    "tags": []
   },
   "source": [
    "# **Slide-seq lung DestVI v2 imputed gene expression DE analysis (ct-aware Harreman results)**"
   ]
  },
  {
   "cell_type": "code",
   "execution_count": 1,
   "id": "803eb169",
   "metadata": {},
   "outputs": [],
   "source": [
    "%load_ext autoreload\n",
    "%autoreload 2"
   ]
  },
  {
   "cell_type": "code",
   "execution_count": 2,
   "id": "8f0a39f5",
   "metadata": {},
   "outputs": [],
   "source": [
    "import sys\n",
    "sys.path.insert(0, '/home/projects/nyosef/oier/new_destvi_updated/scvi-tools/src')"
   ]
  },
  {
   "cell_type": "code",
   "execution_count": 3,
   "id": "d86ce8c3-b314-4304-87e6-60d76738db58",
   "metadata": {
    "tags": []
   },
   "outputs": [
    {
     "name": "stderr",
     "output_type": "stream",
     "text": [
      "/home/projects/nyosef/oier/mambaforge/envs/new_destvi-env/lib/python3.11/site-packages/tqdm/auto.py:21: TqdmWarning: IProgress not found. Please update jupyter and ipywidgets. See https://ipywidgets.readthedocs.io/en/stable/user_install.html\n",
      "  from .autonotebook import tqdm as notebook_tqdm\n",
      "/home/projects/nyosef/oier/mambaforge/envs/new_destvi-env/lib/python3.11/site-packages/docrep/decorators.py:43: SyntaxWarning: 'unlabeled_category' is not a valid key!\n",
      "  doc = func(self, args[0].__doc__, *args[1:], **kwargs)\n"
     ]
    }
   ],
   "source": [
    "import os\n",
    "import numpy as np\n",
    "import pandas as pd\n",
    "import scanpy as sc\n",
    "import scvi\n",
    "from scvi.model import CondSCVI, DestVI\n",
    "import torch\n",
    "import destvi_utils\n",
    "from scipy.stats import ks_2samp, zscore\n",
    "from statsmodels.stats.multitest import multipletests\n",
    "import seaborn as sns\n",
    "import gseapy\n",
    "from plotnine import *\n",
    "\n",
    "BASE_PATH = \"/home/projects/nyosef/oier/Harreman_files/Slide_seq_lung\"\n",
    "ADATA_PATH = os.path.join(BASE_PATH, 'h5ads')\n",
    "DATA_PATH = os.path.join(BASE_PATH, 'data')\n",
    "MODELS_PATH = os.path.join(BASE_PATH, 'models')\n",
    "PLOTS_PATH = os.path.join(BASE_PATH, 'plots')\n",
    "SLIDE_SEQ_LUNG_DESTVI_ADATA_PATH = os.path.join(ADATA_PATH, 'Slide_seq_lung_DestVI_v2_adata.h5ad')\n",
    "SLIDE_SEQ_LUNG_SC_MODEL_PATH = os.path.join(MODELS_PATH, 'Slide_seq_lung_DestVI_v2_sc')\n",
    "SLIDE_SEQ_LUNG_ST_MODEL_PATH = os.path.join(MODELS_PATH, 'Slide_seq_lung_DestVI_v2_st')\n",
    "\n",
    "msigdb_data_path = \"/home/projects/nyosef/oier/MSigDB_data\""
   ]
  },
  {
   "cell_type": "code",
   "execution_count": 4,
   "id": "54fab7bd",
   "metadata": {},
   "outputs": [],
   "source": [
    "def de_genes(\n",
    "    st_model,\n",
    "    mask,\n",
    "    ct,\n",
    "    threshold=0.0,\n",
    "    st_adata=None,\n",
    "    mask2=None,\n",
    "    key=None,\n",
    "    N_sample=10,\n",
    "    pseudocount=0.01,\n",
    "    key_proportions=\"proportions\",\n",
    "):\n",
    "    \"\"\"\n",
    "    Function to compute differential expressed genes from generative model.\n",
    "    For further reference check [Lopez22]_.\n",
    "\n",
    "    Parameters\n",
    "    ----------\n",
    "    st_adata\n",
    "        Spatial sequencing dataset with proportions in obsm[key_proportions]. If not provided uses data in st_model.\n",
    "    st_model\n",
    "        Trained destVI model\n",
    "    mask\n",
    "        Mask for subsetting the spots to condition 1 in differential expression.\n",
    "    mask2\n",
    "        Mask for subsetting the spots to condition 2 in differential expression (reference). If none, inverse of mask.\n",
    "    ct\n",
    "        Cell type for which differential expression is computed\n",
    "    threshold\n",
    "        Proportion threshold to subset to spots with this amount of cell type proportion\n",
    "    key\n",
    "        Key to store values in st_adata.uns[key]. If None returns pandas dataframe with DE results. Defaults to None\n",
    "    N_sample\n",
    "        N_samples drawn from generative model to simulate expression values.\n",
    "    pseudocount\n",
    "        Pseudocount added at computation of logFC. Increasing leads to lower logFC of lowly expressed genes.\n",
    "    key_proportions\n",
    "        Obsm key pointing to cell-type proportions.\n",
    "\n",
    "    Returns\n",
    "    -------\n",
    "    res\n",
    "        If key is None. Pandas dataframe containing results of differential expression.\n",
    "        Dataframe columns are \"log2FC\", \"pval\", \"score\".\n",
    "        If key is provided. mask, mask2 and de_results are stored in st_adata.uns[key]. Dictionary keys are\n",
    "        \"mask_active\", \"mask_rest\", \"de_results\".\n",
    "\n",
    "    \"\"\"\n",
    "\n",
    "    # get statistics\n",
    "    if mask2 is None:\n",
    "        mask2 = ~mask\n",
    "\n",
    "    if st_adata is None:\n",
    "        st_adata = st_model.adata\n",
    "        st_adata.obsm[key_proportions] = st_model.get_proportions()\n",
    "    else:\n",
    "        if key_proportions not in st_adata.obsm:\n",
    "            raise ValueError(\n",
    "                f\"Please provide cell type proportions in st_adata.obsm[{key_proportions}] and rerun.\"\n",
    "            )\n",
    "\n",
    "    if st_model.registry_[\"setup_args\"][\"layer\"]:\n",
    "        expression = st_adata.layers[st_model.registry_[\"setup_args\"][\"layer\"]]\n",
    "    else:\n",
    "        expression = st_adata.X\n",
    "\n",
    "    # mask = np.logical_and(mask, st_adata.obsm[key_proportions][ct] > threshold)\n",
    "    # mask2 = np.logical_and(mask2, st_adata.obsm[key_proportions][ct] > threshold)\n",
    "\n",
    "    avg_library_size = np.mean(np.sum(expression, axis=1).flatten())\n",
    "    exp_px_r = st_model.module.px_r.detach().exp().cpu().numpy()\n",
    "    imputations = st_model.get_scale_for_ct(ct).values\n",
    "    mean = avg_library_size * imputations\n",
    "\n",
    "    concentration = torch.tensor(avg_library_size * imputations / exp_px_r)\n",
    "    rate = torch.tensor(1.0 / exp_px_r)\n",
    "\n",
    "    # slice conditions\n",
    "    N_mask = N_unmask = N_sample\n",
    "\n",
    "    def simulation(mask_, N_mask_):\n",
    "        # generate\n",
    "        simulated = (\n",
    "            torch.distributions.Gamma(concentration=concentration[mask_], rate=rate)\n",
    "            .sample((N_mask_,))\n",
    "            .cpu()\n",
    "            .numpy()\n",
    "        )\n",
    "        simulated = np.log(simulated + 1)\n",
    "        simulated = simulated.reshape((-1, simulated.shape[-1]))\n",
    "        return simulated\n",
    "\n",
    "    simulated_case = simulation(mask, N_mask)\n",
    "    simulated_control = simulation(mask2, N_unmask)\n",
    "\n",
    "    de = np.array(\n",
    "        [\n",
    "            ks_2samp(\n",
    "                simulated_case[:, gene],\n",
    "                simulated_control[:, gene],\n",
    "                alternative=\"two-sided\",\n",
    "                mode=\"asymp\",\n",
    "            )\n",
    "            for gene in range(simulated_control.shape[1])\n",
    "        ]\n",
    "    )\n",
    "    lfc = np.log2(pseudocount + mean[mask].mean(0)) - np.log2(\n",
    "        pseudocount + mean[mask2].mean(0)\n",
    "    )\n",
    "    res = pd.DataFrame(\n",
    "        data=np.vstack([lfc, de[:, 0], de[:, 1]]),\n",
    "        columns=st_adata.var.index,\n",
    "        index=[\"log2FC\", \"score\", \"pval\"],\n",
    "    ).T\n",
    "\n",
    "    # Store results in st_adata\n",
    "    if key is not None:\n",
    "        st_adata.uns[key] = {}\n",
    "        st_adata.uns[key][\"de_results\"] = res.sort_values(by=\"score\", ascending=False)\n",
    "        st_adata.uns[key][\"mask_active\"] = mask\n",
    "        st_adata.uns[key][\"mask_rest\"] = mask2\n",
    "        return st_adata\n",
    "    else:\n",
    "        return res"
   ]
  },
  {
   "cell_type": "code",
   "execution_count": 5,
   "id": "0565a1ff",
   "metadata": {},
   "outputs": [],
   "source": [
    "# adata = sc.read_h5ad(os.path.join(ADATA_PATH, 'Slide_seq_lung_ct_Harreman_adata.h5ad'))\n",
    "adata = sc.read_h5ad(f'{ADATA_PATH}/Slide_seq_lung_ct_Harreman_no_deconv_adata.h5ad')"
   ]
  },
  {
   "cell_type": "code",
   "execution_count": 6,
   "id": "dae22173",
   "metadata": {},
   "outputs": [],
   "source": [
    "st_adata = sc.read_h5ad(SLIDE_SEQ_LUNG_DESTVI_ADATA_PATH)"
   ]
  },
  {
   "cell_type": "code",
   "execution_count": 7,
   "id": "a4627ec4",
   "metadata": {},
   "outputs": [
    {
     "name": "stderr",
     "output_type": "stream",
     "text": [
      "Trainer will use only 1 of 4 GPUs because it is running inside an interactive / notebook environment. You may try to set `Trainer(devices=4)` but please note that multi-GPU inside interactive / notebook environments is considered experimental and unstable. Your mileage may vary.\n"
     ]
    },
    {
     "name": "stdout",
     "output_type": "stream",
     "text": [
      "\u001b[34mINFO    \u001b[0m File \u001b[35m/home/projects/nyosef/oier/Harreman_files/Slide_seq_lung/models/Slide_seq_lung_DestVI_v2_st/\u001b[0m\u001b[95mmodel.pt\u001b[0m \n",
      "         already downloaded                                                                                        \n"
     ]
    }
   ],
   "source": [
    "st_model = DestVI.load(SLIDE_SEQ_LUNG_ST_MODEL_PATH, st_adata)"
   ]
  },
  {
   "cell_type": "code",
   "execution_count": 8,
   "id": "51bf1525",
   "metadata": {},
   "outputs": [],
   "source": [
    "def get_ct_proportion_thershold(proportion_df):\n",
    "    \n",
    "    mean = proportion_df.mean()\n",
    "    std = proportion_df.std()\n",
    "    \n",
    "    ct_thresholds = {col: (mean[col] + std[col]) for col in proportion_df.columns}\n",
    "    \n",
    "    return ct_thresholds"
   ]
  },
  {
   "cell_type": "code",
   "execution_count": 9,
   "id": "440f794e",
   "metadata": {},
   "outputs": [],
   "source": [
    "ct_thresholds = get_ct_proportion_thershold(st_adata.obsm['proportions'])"
   ]
  },
  {
   "cell_type": "code",
   "execution_count": 10,
   "id": "9f823adb",
   "metadata": {},
   "outputs": [],
   "source": [
    "ct_interacting_cell_results_np_m_cs = adata.obsm['ct_interacting_cell_results_np_m_cs_df']"
   ]
  },
  {
   "cell_type": "code",
   "execution_count": 11,
   "id": "e3897fe1",
   "metadata": {},
   "outputs": [],
   "source": [
    "cell_com_m_df = adata.uns['ct_ccc_results']['cell_com_df_m_sig'].copy()\n",
    "ct_pairs_m_set = set([tuple(x) for x in cell_com_m_df[['Cell Type 1', 'Cell Type 2']].values])"
   ]
  },
  {
   "cell_type": "code",
   "execution_count": 26,
   "id": "c030d904",
   "metadata": {},
   "outputs": [],
   "source": [
    "metabolites = ['L-Lactate', 'Sodium_calcium exchange']\n",
    "metabolite = metabolites[0]"
   ]
  },
  {
   "cell_type": "code",
   "execution_count": 27,
   "id": "b29d814f",
   "metadata": {},
   "outputs": [],
   "source": [
    "ct_pairs_m_set = set([tuple(x) for x in cell_com_m_df[cell_com_m_df['metabolite'] == metabolite][['Cell Type 1', 'Cell Type 2']].values])"
   ]
  },
  {
   "cell_type": "code",
   "execution_count": 28,
   "id": "4d123486",
   "metadata": {},
   "outputs": [],
   "source": [
    "cell_types = list(set(ct for cell_type_pair in ct_pairs_m_set for ct in cell_type_pair))"
   ]
  },
  {
   "cell_type": "markdown",
   "metadata": {},
   "source": [
    "### DE analysis"
   ]
  },
  {
   "cell_type": "code",
   "execution_count": 29,
   "id": "70ec6fd2",
   "metadata": {},
   "outputs": [],
   "source": [
    "metab_cell_types = {\n",
    "    'L-Lactate': ['Endothelial', 'TAM', 'T-Helper', 'CD8+ T cell', 'Tumor', 'DC'],\n",
    "    'Sodium_calcium exchange': ['Endothelial', 'TAM', 'T-Helper', 'CD8+ T cell', 'Tumor', 'DC'],\n",
    "}"
   ]
  },
  {
   "cell_type": "code",
   "execution_count": 30,
   "id": "dd928d97",
   "metadata": {},
   "outputs": [
    {
     "name": "stdout",
     "output_type": "stream",
     "text": [
      "Endothelial\n",
      "TAM\n",
      "T-Helper\n",
      "CD8+ T cell\n",
      "Tumor\n",
      "DC\n"
     ]
    }
   ],
   "source": [
    "de_results_dict = {}\n",
    "for ct in metab_cell_types[metabolite]:\n",
    "    print(ct)\n",
    "    rows = adata.obs_names[adata.obs['cell_type'] == ct]\n",
    "    cols = [col for col in ct_interacting_cell_results_np_m_cs.columns if (metabolite in col) and (ct in col)]\n",
    "    selected_spots = ct_interacting_cell_results_np_m_cs.loc[rows, cols][ct_interacting_cell_results_np_m_cs.loc[rows, cols].sum(axis=1) != 0].index\n",
    "    rest = ct_interacting_cell_results_np_m_cs.loc[rows, cols][ct_interacting_cell_results_np_m_cs.loc[rows, cols].sum(axis=1) == 0].index\n",
    "    mask = st_adata.obs_names.isin(selected_spots)\n",
    "    mask2 = st_adata.obs_names.isin(rest)\n",
    "    \n",
    "    if '_' in ct:\n",
    "        ct = ct.replace('_', '/')\n",
    "        \n",
    "    if (mask.sum() == 0) or (mask2.sum() == 0):\n",
    "        continue\n",
    "\n",
    "    _ = de_genes(\n",
    "        st_model, mask=mask, mask2=mask2, ct=ct, key=ct\n",
    "    )\n",
    "\n",
    "    res = st_adata.uns[ct][\"de_results\"]\n",
    "    res['adj_pval'] = multipletests(res[\"pval\"], method=\"fdr_bh\")[1]\n",
    "\n",
    "    de_results_dict[ct] = res"
   ]
  },
  {
   "cell_type": "code",
   "execution_count": 31,
   "id": "c24a3027",
   "metadata": {},
   "outputs": [],
   "source": [
    "writer=pd.ExcelWriter(os.path.join(DATA_PATH, f\"{metabolite.replace('-', '_').replace(' ', '_')}_Slide_seq_lung_ct_Harreman_no_deconv_DestVI_DE_results.xlsx\"))\n",
    "for key, df in de_results_dict.items():\n",
    "    df.to_excel(writer,sheet_name=key.replace('/', '_'))\n",
    "writer.close()"
   ]
  },
  {
   "cell_type": "markdown",
   "id": "44906a04",
   "metadata": {},
   "source": [
    "### Enrichment analysis"
   ]
  },
  {
   "cell_type": "code",
   "execution_count": 18,
   "id": "30aaf86f",
   "metadata": {},
   "outputs": [],
   "source": [
    "def calc_enrichment_score(val, n, M):\n",
    "    \n",
    "    x = int(val.split('/')[0])\n",
    "    N = int(val.split('/')[1])\n",
    "\n",
    "    e_overlap = n*N/M\n",
    "    stat = np.log2(x/e_overlap)\n",
    "\n",
    "    return stat"
   ]
  },
  {
   "cell_type": "code",
   "execution_count": 19,
   "id": "d88f5694",
   "metadata": {},
   "outputs": [],
   "source": [
    "def Enrichment_analysis_pipeline(gene_set_h, genes, background):\n",
    "    enr = gseapy.enrichr(gene_list=genes,\n",
    "                        gene_sets=gene_set_h,\n",
    "                        organism='human',\n",
    "                        outdir=None,\n",
    "                        background=background\n",
    "                        )\n",
    "\n",
    "    if enr.results.shape[0] == 0:\n",
    "        return\n",
    "\n",
    "    enr_results = enr.results.set_index('Term')\n",
    "    enr_results['Stats'] = enr_results['Overlap'].apply(calc_enrichment_score, args=(len(genes), len(background)))\n",
    "    enr_results['ngenes'] = enr_results['Genes'].map(lambda x: len(x.split(';')))\n",
    "\n",
    "    return enr_results"
   ]
  },
  {
   "cell_type": "code",
   "execution_count": 20,
   "id": "930337ce",
   "metadata": {},
   "outputs": [],
   "source": [
    "gene_set = 'BioPlanet_2019'\n",
    "gene_set_h = gseapy.get_library(gene_set)"
   ]
  },
  {
   "cell_type": "code",
   "execution_count": 21,
   "id": "04758188",
   "metadata": {},
   "outputs": [],
   "source": [
    "background = st_adata.var_names.tolist()"
   ]
  },
  {
   "cell_type": "code",
   "execution_count": 32,
   "id": "30516899",
   "metadata": {},
   "outputs": [],
   "source": [
    "metabolites = ['L-Lactate', 'Sodium_calcium exchange']\n",
    "metabolite = metabolites[0]"
   ]
  },
  {
   "cell_type": "code",
   "execution_count": 33,
   "id": "24b915f3",
   "metadata": {},
   "outputs": [],
   "source": [
    "de_results_dict = {}\n",
    "excel_file=pd.read_excel(os.path.join(DATA_PATH, f\"{metabolite.replace('-', '_').replace(' ', '_')}_Slide_seq_lung_ct_Harreman_no_deconv_DestVI_DE_results.xlsx\"), sheet_name=None, index_col=0)\n",
    "for key, df in excel_file.items():\n",
    "    de_results_dict[key] = df"
   ]
  },
  {
   "cell_type": "code",
   "execution_count": 34,
   "id": "590d4646",
   "metadata": {},
   "outputs": [
    {
     "name": "stdout",
     "output_type": "stream",
     "text": [
      "Endothelial\n",
      "TAM\n",
      "T-Helper\n",
      "CD8+ T cell\n",
      "Tumor\n",
      "DC\n"
     ]
    }
   ],
   "source": [
    "enr_results_dict = {}\n",
    "for key, df in de_results_dict.items():\n",
    "    print(key)\n",
    "    for dir in ['pos', 'neg']:\n",
    "        genes = df[(df['adj_pval'] < 0.05) & (df['log2FC'] > 0)].index.tolist() if dir == 'pos' else df[(df['adj_pval'] < 0.05) & (df['log2FC'] < 0)].index.tolist()\n",
    "        if len(genes) == 0:\n",
    "            continue\n",
    "        enr_results = Enrichment_analysis_pipeline(gene_set_h, genes, background)\n",
    "        enr_results = enr_results[enr_results['Adjusted P-value'] < 0.05].sort_values('Odds Ratio', ascending=False).copy()\n",
    "        enr_results_dict[f'{key}_{dir}'] = enr_results"
   ]
  },
  {
   "cell_type": "code",
   "execution_count": 35,
   "id": "61466480",
   "metadata": {},
   "outputs": [],
   "source": [
    "writer=pd.ExcelWriter(os.path.join(DATA_PATH, f\"{metabolite.replace('-', '_').replace(' ', '_')}_Slide_seq_lung_ct_Harreman_no_deconv_DestVI_DE_enrich_analysis.xlsx\"))\n",
    "for key in enr_results_dict:\n",
    "    enr_results_dict[key].to_excel(writer,sheet_name=key)\n",
    "writer.close()"
   ]
  }
 ],
 "metadata": {
  "kernelspec": {
   "display_name": "Python 3 (ipykernel)",
   "language": "python",
   "name": "python3"
  },
  "language_info": {
   "codemirror_mode": {
    "name": "ipython",
    "version": 3
   },
   "file_extension": ".py",
   "mimetype": "text/x-python",
   "name": "python",
   "nbconvert_exporter": "python",
   "pygments_lexer": "ipython3",
   "version": "3.11.8"
  }
 },
 "nbformat": 4,
 "nbformat_minor": 5
}
