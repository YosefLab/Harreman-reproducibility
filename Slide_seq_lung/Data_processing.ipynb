{
 "cells": [
  {
   "cell_type": "markdown",
   "id": "e8ea5963-70b5-48ff-8d30-3d3febd33cae",
   "metadata": {
    "tags": []
   },
   "source": [
    "# **Slide-seq lung: data processing**"
   ]
  },
  {
   "cell_type": "code",
   "execution_count": 1,
   "id": "d86ce8c3-b314-4304-87e6-60d76738db58",
   "metadata": {
    "tags": []
   },
   "outputs": [],
   "source": [
    "import os\n",
    "import numpy as np\n",
    "import pandas as pd\n",
    "import scanpy as sc\n",
    "import anndata as ad\n",
    "import warnings\n",
    "warnings.filterwarnings(\"ignore\")\n",
    "\n",
    "BASE_PATH = \"/home/projects/nyosef/oier/Harreman_files/Slide_seq_lung\"\n",
    "ADATA_PATH = os.path.join(BASE_PATH, 'h5ads')\n",
    "RAW_ADATA_PATH = os.path.join(ADATA_PATH, 'raw')\n",
    "DATA_PATH = os.path.join(BASE_PATH, 'data')"
   ]
  },
  {
   "cell_type": "markdown",
   "id": "2be0a46a",
   "metadata": {},
   "source": [
    "## Load dataset"
   ]
  },
  {
   "cell_type": "markdown",
   "id": "1076e3ba",
   "metadata": {},
   "source": [
    "The data was obtained from https://cellxgene.cziscience.com/collections/02b01703-bf1b-48de-b99a-23bef8cccc81."
   ]
  },
  {
   "cell_type": "code",
   "execution_count": 2,
   "id": "82aec384",
   "metadata": {},
   "outputs": [],
   "source": [
    "adatas = {}\n",
    "for data in os.listdir(RAW_ADATA_PATH):\n",
    "    sample = data.split('.')[0]\n",
    "\n",
    "    adata = ad.read_h5ad(os.path.join(RAW_ADATA_PATH, data))\n",
    "    adata.obs_names = [ind + '_' + sample for ind in adata.obs_names]\n",
    "    adata.obs['sample'] = sample\n",
    "    adata.var['gene_ids'] = adata.var_names\n",
    "    adata.var_names = adata.var['feature_name']\n",
    "\n",
    "    adata.layers['counts'] = adata.X\n",
    "    norm = sc.pp.normalize_total(adata, target_sum=1e4, inplace=False)\n",
    "    adata.layers[\"normalized\"] = norm[\"X\"]\n",
    "    adata.layers[\"log_norm\"] = sc.pp.log1p(norm[\"X\"], copy=True)\n",
    "\n",
    "    adatas[sample] = adata"
   ]
  },
  {
   "cell_type": "code",
   "execution_count": 3,
   "id": "a78d9745",
   "metadata": {},
   "outputs": [],
   "source": [
    "adata = ad.concat(adatas.values())"
   ]
  },
  {
   "cell_type": "code",
   "execution_count": 4,
   "id": "6c6d7ea1",
   "metadata": {},
   "outputs": [
    {
     "data": {
      "text/plain": [
       "AnnData object with n_obs × n_vars = 200394 × 21387\n",
       "    obs: 'n_genes', 'n_UMIs', 'log10_n_UMIs', 'log10_n_genes', 'organism_ontology_term_id', 'tissue_ontology_term_id', 'assay_ontology_term_id', 'disease_ontology_term_id', 'self_reported_ethnicity_ontology_term_id', 'development_stage_ontology_term_id', 'sex_ontology_term_id', 'Cell_Type', 'cell_type_ontology_term_id', 'donor_id', 'is_primary_data', 'suspension_type', 'tissue_type', 'cell_type', 'assay', 'disease', 'organism', 'sex', 'tissue', 'self_reported_ethnicity', 'development_stage', 'observation_joinid', 'sample'\n",
       "    obsm: 'spatial'\n",
       "    layers: 'counts', 'normalized', 'log_norm'"
      ]
     },
     "execution_count": 4,
     "metadata": {},
     "output_type": "execute_result"
    }
   ],
   "source": [
    "adata"
   ]
  },
  {
   "cell_type": "markdown",
   "id": "bd71a5a2",
   "metadata": {},
   "source": [
    "We save the AnnData"
   ]
  },
  {
   "cell_type": "code",
   "execution_count": 5,
   "id": "bd71a5a2",
   "metadata": {},
   "outputs": [],
   "source": [
    "# adata.write(os.path.join(ADATA_PATH, 'Slide_seq_lung_adata.h5ad'))"
   ]
  }
 ],
 "metadata": {
  "kernelspec": {
   "display_name": "Python 3 (ipykernel)",
   "language": "python",
   "name": "python3"
  },
  "language_info": {
   "codemirror_mode": {
    "name": "ipython",
    "version": 3
   },
   "file_extension": ".py",
   "mimetype": "text/x-python",
   "name": "python",
   "nbconvert_exporter": "python",
   "pygments_lexer": "ipython3",
   "version": "3.11.9"
  }
 },
 "nbformat": 4,
 "nbformat_minor": 5
}
